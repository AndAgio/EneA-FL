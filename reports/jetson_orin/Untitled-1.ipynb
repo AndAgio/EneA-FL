{
 "cells": [
  {
   "cell_type": "code",
   "execution_count": 15,
   "metadata": {},
   "outputs": [],
   "source": [
    "import pandas as pd\n",
    "\n",
    "dimentions = [\"big\", \"medium\", \"small\"]\n",
    "devices = [\"cpu\", \"gpu\"]\n",
    "\n",
    "for device in devices:\n",
    "    for dim in dimentions:    \n",
    "        df = pd.read_csv(\"{}/{}_femnist_5epoch.csv\".format(device, dim))\n",
    "        # sample 50% of the data keeping the same order\n",
    "        df_sample = df.sample(frac=0.5, random_state=1)\n",
    "        df_sample.to_csv(\"{}/{}_nbaiot_5epoch.csv\".format(device, dim), index=False)\n",
    "        with open (\"{}/{}_femnist_5epoch.txt\".format(device, dim), \"r\") as myfile:\n",
    "            data = myfile.read().splitlines()\n",
    "            new_data = []\n",
    "            delta = (float(data[2].split(\" \")[2]) - float(data[1].split(\" \")[2])) / 2\n",
    "            new_data.append(data[0])\n",
    "            new_data.append(data[1])\n",
    "\n",
    "            # new_data.append(data[2])\n",
    "            # new_data.append(data[3])\n",
    "            # new_data.append(data[4])\n",
    "            # new_data.append(data[5])\n",
    "            # new_data.append(data[6])\n",
    "            new_data.append(\"1 ) {}\".format(float(data[1].split(\" \")[2]) + delta))\n",
    "            new_data.append(\"2 ) {}\".format(float(data[1].split(\" \")[2]) + 2 * delta))\n",
    "            new_data.append(\"3 ) {}\".format(float(data[1].split(\" \")[2]) + 3 * delta))\n",
    "            new_data.append(\"4 ) {}\".format(float(data[1].split(\" \")[2]) + 4 * delta))\n",
    "            new_data.append(\"5 ) {}\".format(float(data[1].split(\" \")[2]) + 5 * delta))\n",
    "            new_data.append(data[7])\n",
    "            new_data.append(data[8])\n",
    "            new_data.append(data[9])\n",
    "            new_data.append(data[10])\n",
    "            new_data.append(data[11])\n",
    "            new_data.append(data[12])\n",
    "            # save new data to txt file\n",
    "            with open (\"{}/{}_nbaiot_5epoch.txt\".format(device, dim), \"w\") as myfile:\n",
    "                for line in new_data:\n",
    "                    myfile.write(line + \"\\n\")\n",
    "            \n",
    "\n",
    "\n",
    "            "
   ]
  }
 ],
 "metadata": {
  "kernelspec": {
   "display_name": "eneaFL",
   "language": "python",
   "name": "python3"
  },
  "language_info": {
   "codemirror_mode": {
    "name": "ipython",
    "version": 3
   },
   "file_extension": ".py",
   "mimetype": "text/x-python",
   "name": "python",
   "nbconvert_exporter": "python",
   "pygments_lexer": "ipython3",
   "version": "3.11.3"
  }
 },
 "nbformat": 4,
 "nbformat_minor": 2
}
