{
 "cells": [
  {
   "attachments": {},
   "cell_type": "markdown",
   "metadata": {},
   "source": [
    "## Split csv files\n"
   ]
  },
  {
   "cell_type": "code",
   "execution_count": 24,
   "metadata": {},
   "outputs": [],
   "source": [
    "import os\n",
    "import pandas as pd\n",
    "import numpy as np\n",
    "\n",
    "BASE_DIR = \"./reports/\"\n",
    "DEVICES = [\"cpu/\", \"gpu/\"]\n",
    "IOT_MODELS = [\"jetson_nano/\", \"raspberrypi/\", \"jetson_orin/\"]"
   ]
  },
  {
   "cell_type": "code",
   "execution_count": 53,
   "metadata": {},
   "outputs": [],
   "source": [
    "def get_epoch_timestamps(data):\n",
    "    timestamps = []\n",
    "    for d in data:\n",
    "        if not d.startswith(\"-\"):\n",
    "            timestamps.append(float(d.split(\" \")[2]))\n",
    "    return timestamps[:6]\n",
    "\n",
    "def get_n_samples_per_epoch(data):\n",
    "    n_samples = []\n",
    "    for d in data:\n",
    "        if not d.startswith(\"-\"):\n",
    "            n_samples.append(float(d.split(\" \")[-1]))\n",
    "    return n_samples[6:] \n",
    "\n",
    "def get_couple_timestamps(timestamps):\n",
    "    couples = []\n",
    "    couple = []\n",
    "    for t in timestamps:\n",
    "        couple.append(t)\n",
    "        if len(couple) == 2:\n",
    "            couples.append(couple)\n",
    "            couple = [couple[1]]\n",
    "    return couples\n",
    "\n",
    "def get_sub_df_from_timestamps(df, couple_timestamps):\n",
    "    dfs_split = []\n",
    "    for ct in couple_timestamps:\n",
    "        df_split = df[(df[\"timestamp\"] > ct[0]) & (df[\"timestamp\"] < ct[1])]\n",
    "        dfs_split.append(df_split)\n",
    "    return dfs_split\n",
    "\n",
    "def save_dfs_split(dfs_split, iot_model, device, file_name):\n",
    "    for i, df in enumerate(dfs_split):\n",
    "        path = os.path.join(BASE_DIR, iot_model, device, \"split_dfs/\")\n",
    "        if not os.path.exists(path):\n",
    "            os.makedirs(path)\n",
    "        path = os.path.join(path, str(i) + \"_\" + file_name.split(\".\")[0] + \".csv\")\n",
    "        df.to_csv(path, index=False)"
   ]
  },
  {
   "cell_type": "code",
   "execution_count": 54,
   "metadata": {},
   "outputs": [],
   "source": [
    "for iot_model in IOT_MODELS:\n",
    "    for device in DEVICES:\n",
    "        path = os.path.join(BASE_DIR, iot_model, device)\n",
    "        files = os.listdir(path)\n",
    "        for file in files:\n",
    "            file_path = os.path.join(path, file)\n",
    "            if file.endswith(\".txt\"):\n",
    "                with open (file_path, \"r\") as myfile:\n",
    "                    data = myfile.read().splitlines()\n",
    "                timestamps = get_epoch_timestamps(data)\n",
    "                couple_timestamps = get_couple_timestamps(timestamps)\n",
    "                this_df = pd.read_csv(file_path.replace(\".txt\", \".csv\"))\n",
    "                dfs_split = get_sub_df_from_timestamps(this_df, couple_timestamps)\n",
    "                save_dfs_split(dfs_split, iot_model, device, file)\n",
    "                    "
   ]
  },
  {
   "cell_type": "code",
   "execution_count": null,
   "metadata": {},
   "outputs": [],
   "source": []
  }
 ],
 "metadata": {
  "kernelspec": {
   "display_name": "eneaFL",
   "language": "python",
   "name": "python3"
  },
  "language_info": {
   "codemirror_mode": {
    "name": "ipython",
    "version": 3
   },
   "file_extension": ".py",
   "mimetype": "text/x-python",
   "name": "python",
   "nbconvert_exporter": "python",
   "pygments_lexer": "ipython3",
   "version": "3.11.3"
  },
  "orig_nbformat": 4
 },
 "nbformat": 4,
 "nbformat_minor": 2
}
